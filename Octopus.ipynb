{
 "metadata": {
  "name": "Octopus"
 },
 "nbformat": 3,
 "nbformat_minor": 0,
 "worksheets": [
  {
   "cells": [
    {
     "cell_type": "markdown",
     "metadata": {},
     "source": [
      "# Testing Octopus\n",
      "\n",
      "Clone `git://github.com/jquery/jquery.git` as a bare repository in ../"
     ]
    },
    {
     "cell_type": "code",
     "collapsed": true,
     "input": [
      "# The repository\n",
      "from octopus import Repository\n",
      "\n",
      "r = Repository('../jquery.git')\n",
      "\n",
      "print r\n",
      "\n",
      "print r.branches\n",
      "print r.tags\n"
     ],
     "language": "python",
     "metadata": {},
     "outputs": []
    },
    {
     "cell_type": "code",
     "collapsed": true,
     "input": [
      "# Revisions\n",
      "from octopus import Repository\n",
      "\n",
      "r = Repository('../jquery.git')\n",
      "\n",
      "rev = r.get_revision('1.7')\n",
      "print rev, rev.tags, rev.branches\n",
      "print '----'\n",
      "\n",
      "for rev in r.history():\n",
      "    print rev, rev.tags, rev.branches"
     ],
     "language": "python",
     "metadata": {},
     "outputs": []
    },
    {
     "cell_type": "code",
     "collapsed": true,
     "input": [
      "# Nodes\n",
      "from octopus import Repository\n",
      "\n",
      "r = Repository('../jquery.git')\n",
      "\n",
      "node = r.get_revision().node()\n",
      "\n",
      "print node, node.basename, node.dirname, node.isfile(), node.isdir()\n",
      "\n",
      "node = r.get_revision().node('/src/ajax.js')\n",
      "\n",
      "print node, node.basename, node.dirname, node.isfile(), node.isdir()\n",
      "\n",
      "print '-----'\n",
      "for node in r.get_revision().node('src').children(True):\n",
      "    print node"
     ],
     "language": "python",
     "metadata": {},
     "outputs": []
    },
    {
     "cell_type": "code",
     "collapsed": false,
     "input": [
      "# Node revisions\n",
      "from octopus import Repository\n",
      "\n",
      "r = Repository('../jquery.git')\n",
      "\n",
      "node = r.get_revision().node('/package.json')\n",
      "for rev in node.history():\n",
      "    print rev, rev.tags, rev.branches"
     ],
     "language": "python",
     "metadata": {},
     "outputs": []
    },
    {
     "cell_type": "code",
     "collapsed": true,
     "input": [
      "# Node content\n",
      "\n",
      "from octopus import Repository\n",
      "\n",
      "r = Repository('../jquery.git')\n",
      "\n",
      "node = r.get_revision().node('Gruntfile.js')\n",
      "\n",
      "print node.open().read()"
     ],
     "language": "python",
     "metadata": {},
     "outputs": []
    },
    {
     "cell_type": "code",
     "collapsed": false,
     "input": [
      "# diff\n",
      "from octopus import Repository\n",
      "\n",
      "r = Repository('../jquery.git')\n",
      "\n",
      "node = r.get_revision().node('')\n",
      "\n",
      "diff = node.diff('HEAD~3')\n",
      "print diff\n",
      "print unicode(diff)\n",
      "\n",
      "#r.diff('HEAD', 'HEAD~1')"
     ],
     "language": "python",
     "metadata": {},
     "outputs": []
    },
    {
     "cell_type": "code",
     "collapsed": false,
     "input": [
      "from octopus import Repository\n",
      "\n",
      "r = Repository('../jquery.git/')\n",
      "\n",
      "index = r.index('HEAD')\n",
      "content = r.get_revision().node('Gruntfile.js').open().read()\n",
      "\n",
      "index.add('woot/toto/test', u'plop')\n",
      "index.add('src/ajax/woot/plop', u'woot')\n",
      "index.add('Gruntfile.js', content  + '\\ncoucou')\n",
      "index.commit('Test 2', 'Olivier', 'olivier@neokraft.net')"
     ],
     "language": "python",
     "metadata": {},
     "outputs": [],
     "prompt_number": 273
    },
    {
     "cell_type": "code",
     "collapsed": false,
     "input": [
      "from octopus import Repository\n",
      "\n",
      "r = Repository('../jquery.git/')\n",
      "\n",
      "index = r.index('HEAD')\n",
      "\n",
      "index.remove('woot/toto/test')\n",
      "index.remove('src/ajax/woot/plop')\n",
      "index.commit('Test 3', 'Olivier', 'olivier@neokraft.net')"
     ],
     "language": "python",
     "metadata": {},
     "outputs": [],
     "prompt_number": 274
    }
   ],
   "metadata": {}
  }
 ]
}