{
 "metadata": {
  "name": "Tamia"
 },
 "nbformat": 3,
 "nbformat_minor": 0,
 "worksheets": [
  {
   "cells": [
    {
     "cell_type": "markdown",
     "metadata": {},
     "source": [
      "# Playing with Tamia\n",
      "\n",
      "Clone `git://github.com/jquery/jquery.git` as a bare repository in ../"
     ]
    },
    {
     "cell_type": "code",
     "collapsed": true,
     "input": [
      "# The repository\n",
      "from tamia import Repository\n",
      "\n",
      "r = Repository('../jquery.git')\n",
      "\n",
      "print r\n",
      "\n",
      "print r.branches\n",
      "print r.tags\n"
     ],
     "language": "python",
     "metadata": {},
     "outputs": []
    },
    {
     "cell_type": "code",
     "collapsed": true,
     "input": [
      "# Revisions\n",
      "from tamia import Repository\n",
      "\n",
      "r = Repository('../jquery.git')\n",
      "\n",
      "rev = r.get_revision('1.7')\n",
      "print rev, rev.tags, rev.branches\n",
      "print '----'\n",
      "\n",
      "for rev in r.history():\n",
      "    print rev, rev.tags, rev.branches"
     ],
     "language": "python",
     "metadata": {},
     "outputs": []
    },
    {
     "cell_type": "code",
     "collapsed": true,
     "input": [
      "# Nodes\n",
      "from tamia import Repository\n",
      "\n",
      "r = Repository('../jquery.git')\n",
      "\n",
      "node = r.get_revision().node()\n",
      "\n",
      "print node, node.basename, node.dirname, node.isfile(), node.isdir()\n",
      "\n",
      "node = r.get_revision().node('/src/ajax.js')\n",
      "\n",
      "print node, node.basename, node.dirname, node.isfile(), node.isdir()\n",
      "\n",
      "print '-----'\n",
      "for node in r.get_revision().node('src').children(True):\n",
      "    print node"
     ],
     "language": "python",
     "metadata": {},
     "outputs": []
    },
    {
     "cell_type": "code",
     "collapsed": false,
     "input": [
      "# Node revisions\n",
      "from tamia import Repository\n",
      "\n",
      "r = Repository('../jquery.git')\n",
      "\n",
      "node = r.get_revision().node('/package.json')\n",
      "for rev in node.history():\n",
      "    print rev, rev.tags, rev.branches"
     ],
     "language": "python",
     "metadata": {},
     "outputs": []
    },
    {
     "cell_type": "code",
     "collapsed": true,
     "input": [
      "# Node content\n",
      "\n",
      "from tamia import Repository\n",
      "\n",
      "r = Repository('../jquery.git')\n",
      "\n",
      "node = r.get_revision().node('Gruntfile.js')\n",
      "\n",
      "print node.open().read()"
     ],
     "language": "python",
     "metadata": {},
     "outputs": []
    },
    {
     "cell_type": "code",
     "collapsed": false,
     "input": [
      "# diff\n",
      "from tamia import Repository\n",
      "\n",
      "r = Repository('../jquery.git')\n",
      "\n",
      "node = r.get_revision().node('')\n",
      "\n",
      "diff = node.diff('HEAD~3')\n",
      "print diff\n",
      "print diff.patch"
     ],
     "language": "python",
     "metadata": {},
     "outputs": []
    }
   ],
   "metadata": {}
  }
 ]
}